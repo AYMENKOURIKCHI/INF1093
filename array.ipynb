{
 "cells": [
  {
   "cell_type": "code",
   "execution_count": 4,
   "id": "fc7c8fbb-f766-4755-a2ff-7045d2dd38fa",
   "metadata": {},
   "outputs": [],
   "source": [
    "# Implemente la structure de donnees Tabelau \n",
    "import ctypes\n",
    "class Array :\n",
    "    # Creation d'un tableau avec size elements\n",
    "    # Ce contructeur definit deux attributs : \n",
    "        # _size pour contenir le nombre d'element du tableau\n",
    "        # _elements pour contenir la reference au tabelau\n",
    "    def __init__(self, size):\n",
    "        assert size > 0 , \"La taille du tableau doit etre > 0\"\n",
    "        \n",
    "        self._size = size   \n",
    "        # Creation du tableau au moyen du module ctypes\n",
    "        PyArrayType = ctypes.py_object * size\n",
    "        self._elements = PyArrayType()\n",
    "        # Initialise chaque element\n",
    "        self.clear(None)\n",
    "    # Retourne la taille du tableau\n",
    "    def __len__(self):\n",
    "        return self._size\n",
    "\n",
    "    # Retourne l'element contenu a la position index\n",
    "    def __getitem__(self, index):\n",
    "        assert index>=0 and index<len(self), \"Array subscript out of range\"\n",
    "        return self._elements[index]\n",
    "    # Positionne la valeur dans le tableau a la position index\n",
    "    def __setitem__(self, index, value):\n",
    "        assert index>=0 and index<len(self), \"Array subscript out of range\"\n",
    "        self._elements[index] = value\n",
    "    # Reinitialise le tableau avec value a chaque position\n",
    "    def clear(self, value):\n",
    "        for i in range(len(self)):\n",
    "            self._elements[i] = value\n",
    "\n",
    "    # Retourne un itterateur sur le tableau\n",
    "    def __iter__(self):\n",
    "        return _ArrayIterator(self._elements)\n",
    "\n",
    "# Un iterateur pour la structure de tabeleau\n",
    "class _ArrayIterator :\n",
    "    def __init__(self, theArray):\n",
    "        self._arrayRef=theArray\n",
    "        self._curNdx = 0\n",
    "    def __iter__(self):\n",
    "        return self\n",
    "    def __next__(self):\n",
    "        if(self._curNdx < len(self._arrayRef)):\n",
    "            entry = self._arrayRef[self._curNdx]\n",
    "            self._curNdx += 1\n",
    "            return entry\n",
    "        else:\n",
    "            raise StopIteration\n",
    "\n",
    "\n",
    "\n",
    "            \n",
    "    \n",
    "    "
   ]
  },
  {
   "cell_type": "code",
   "execution_count": 7,
   "id": "1b0e2fb2-d97e-4de8-91c6-0ca79270f2fc",
   "metadata": {},
   "outputs": [
    {
     "name": "stdout",
     "output_type": "stream",
     "text": [
      "43\n",
      "91\n",
      "30\n",
      "73\n",
      "18\n"
     ]
    }
   ],
   "source": [
    "import random\n",
    "valueList = Array(5)\n",
    "# remplir le tableau avec les valeur aleatoire\n",
    "for i in range(len(valueList)):\n",
    "    valueList[i] = random.randrange(0, 100)\n",
    "# Affiche le tableau\n",
    "for value in valueList:\n",
    "    print(value)\n"
   ]
  },
  {
   "cell_type": "code",
   "execution_count": null,
   "id": "67327b4e-6bec-4b76-8422-eda2b13e57fe",
   "metadata": {},
   "outputs": [],
   "source": []
  }
 ],
 "metadata": {
  "kernelspec": {
   "display_name": "Python 3 (ipykernel)",
   "language": "python",
   "name": "python3"
  },
  "language_info": {
   "codemirror_mode": {
    "name": "ipython",
    "version": 3
   },
   "file_extension": ".py",
   "mimetype": "text/x-python",
   "name": "python",
   "nbconvert_exporter": "python",
   "pygments_lexer": "ipython3",
   "version": "3.11.7"
  }
 },
 "nbformat": 4,
 "nbformat_minor": 5
}
